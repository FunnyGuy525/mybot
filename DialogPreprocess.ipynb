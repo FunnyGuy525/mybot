{
 "cells": [
  {
   "cell_type": "code",
   "execution_count": null,
   "id": "3d5f319b",
   "metadata": {},
   "outputs": [],
   "source": [
    "# 聊天文件处理"
   ]
  },
  {
   "cell_type": "raw",
   "id": "f03e4df2",
   "metadata": {},
   "source": [
    "直接用QQ导出聊天txt文件,格式改为如下：\n",
    "\n",
    "\n",
    "消息记录（此消息记录为文本格式，不支持重新导入）\n",
    "\n",
    "================================================================\n",
    "消息分组:最近联系人\n",
    "================================================================\n",
    "消息对象:***\n",
    "================================================================\n",
    "\n",
    "2022-01-31 16:14:11 (125441****)\n",
    "\n",
    "\n",
    "2022-01-31 16:13:40 (23772****)\n",
    "祝福群发，洗洗睡吧\n",
    "\n",
    "2022-01-31 16:14:11 (125441****)\n",
    "我这是收集优质图源\n",
    "\n",
    "2022-01-31 16:14:15 (125441****)\n",
    "快发\n",
    "\n",
    "2022-01-31 16:14:32 (125441****)\n",
    "群发都晓得么\n",
    "\n",
    "2022-01-31 16:14:45 (125441****)\n",
    "来年好斗图\n",
    "\n",
    "2022-01-31 16:15:25 (125441****)\n",
    "[图片]\n",
    "\n",
    "2022-02-19 0:02:20 (23772****)\n",
    "djas"
   ]
  },
  {
   "cell_type": "code",
   "execution_count": null,
   "id": "faba965f",
   "metadata": {},
   "outputs": [],
   "source": [
    "## 私聊消息处理"
   ]
  },
  {
   "cell_type": "code",
   "execution_count": null,
   "id": "b88b131d",
   "metadata": {},
   "outputs": [],
   "source": [
    "filepath = ''\n",
    "with open(filepath, encoding='utf-8') as f:\n",
    "    txt = f.readlines()\n",
    "dialogList = []"
   ]
  },
  {
   "cell_type": "code",
   "execution_count": null,
   "id": "eba2973d",
   "metadata": {},
   "outputs": [],
   "source": [
    "textlist = []\n",
    "text = ''\n",
    "i = 0\n",
    "# 考虑到QQ聊天时一次回复会有多条消息，所以通过下面的方法实现合并\n",
    "\n",
    "while i < len(txt) - 1:\n",
    "    if '(12544*****)' in txt[i]:\n",
    "        text = ''\n",
    "        while not '(2377******)'in txt[i+1]:\n",
    "            i = i + 1\n",
    "            if txt[i].endswith('(12544*****)\\n'):\n",
    "                continue\n",
    "            if txt[i] == '\\n':\n",
    "                continue\n",
    "            text = text + txt[i]\n",
    "        text = text.replace(\"\\n\", \",\")\n",
    "        textlist.append(text)\n",
    "    if '(2377******)' in txt[i]:\n",
    "        text = ''\n",
    "        while not '(12544*****)'in txt[i+1]:\n",
    "            i = i + 1\n",
    "            if txt[i].endswith('(2377******)\\n'):\n",
    "                continue\n",
    "            if txt[i] == '\\n':\n",
    "                continue\n",
    "            text = text + txt[i]\n",
    "        text = text.replace(\"\\n\", \",\")\n",
    "        textlist.append(text)\n",
    "    i = i + 1\n",
    "for i in range(0, len(textlist), 2):\n",
    "    dialogList.append({\"text\":\"### Human: \"+ textlist[i][:-1] +\" ### Assistant: \"+ textlist[i+1][:-1]})"
   ]
  },
  {
   "cell_type": "code",
   "execution_count": null,
   "id": "59a6ad57",
   "metadata": {},
   "outputs": [],
   "source": [
    "## 多人聊天群消息处理\n",
    "如下为三人聊天群聊消息处理，多人以此类推"
   ]
  },
  {
   "cell_type": "code",
   "execution_count": null,
   "id": "9d1ed189",
   "metadata": {},
   "outputs": [],
   "source": [
    "with open(filepath, encoding='utf-8') as f:\n",
    "    txt = f.readlines()\n",
    "textlist = []\n",
    "print(len(txt))\n",
    "text = ''\n",
    "i = 0\n",
    "while i <= len(txt)-10:\n",
    "    print(txt[i])\n",
    "    if '(22906*****)' in txt[i]:\n",
    "        text = '詹**：' # 标识一下是谁发的消息\n",
    "        while '(23772****)'not in txt[i+1] and '(13408*****)' not in txt[i+1]:\n",
    "            i = i + 1\n",
    "            if txt[i].endswith('(22906*****)\\n'):\n",
    "                continue\n",
    "            if txt[i] == '\\n':\n",
    "                continue\n",
    "            text = text + txt[i]\n",
    "        text = text.replace(\"\\n\", \",\")\n",
    "        textlist.append(text)\n",
    "    if '(23772****)' in txt[i]:\n",
    "        text = '朱**：'\n",
    "        while '(22906*****)'not in txt[i+1] and '(13408*****)' not in txt[i+1]:\n",
    "            i = i + 1\n",
    "            if txt[i].endswith('(23772****)\\n'):\n",
    "                continue\n",
    "            if txt[i] == '\\n':\n",
    "                continue\n",
    "            text = text + txt[i]\n",
    "        text = text.replace(\"\\n\", \",\")\n",
    "        textlist.append(text)\n",
    "    if '(13408*****)' in txt[i]:\n",
    "        text = '王**：'\n",
    "        while '(23772****)'not in txt[i+1] and '(22906*****)' not in txt[i+1]:\n",
    "            i = i + 1\n",
    "            if txt[i].endswith('(13408*****)\\n'):\n",
    "                continue\n",
    "            if txt[i] == '\\n':\n",
    "                continue\n",
    "            text = text + txt[i]\n",
    "        text = text.replace(\"\\n\", \",\")\n",
    "        textlist.append(text)\n",
    "    \n",
    "    i = i + 1\n",
    "\n",
    "for i in range(0, len(textlist), 2):\n",
    "    dialogList.append({\"text\":\"### Human: \"+ textlist[i][:-1] +\" ### Assistant: \"+ textlist[i+1][:-1]})"
   ]
  },
  {
   "cell_type": "code",
   "execution_count": null,
   "id": "f96f74db",
   "metadata": {},
   "outputs": [],
   "source": [
    "def write_txt(file_path,datas):\n",
    "    with open(file_path,\"w\",encoding=\"utf8\") as f:\n",
    "        for d in datas:\n",
    "            f.write(json.dumps(d,ensure_ascii=False)+\"\\n\")\n",
    "        f.close()\n",
    "        \n",
    "newpath = '' # 处理好的数据文件路径\n",
    "write_txt(newpath,dialogList)"
   ]
  },
  {
   "cell_type": "code",
   "execution_count": null,
   "id": "2d255e72",
   "metadata": {},
   "outputs": [],
   "source": []
  }
 ],
 "metadata": {
  "kernelspec": {
   "display_name": "Python 3 (ipykernel)",
   "language": "python",
   "name": "python3"
  },
  "language_info": {
   "codemirror_mode": {
    "name": "ipython",
    "version": 3
   },
   "file_extension": ".py",
   "mimetype": "text/x-python",
   "name": "python",
   "nbconvert_exporter": "python",
   "pygments_lexer": "ipython3",
   "version": "3.9.13"
  }
 },
 "nbformat": 4,
 "nbformat_minor": 5
}
